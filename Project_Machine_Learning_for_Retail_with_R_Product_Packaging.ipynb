{
  "nbformat": 4,
  "nbformat_minor": 0,
  "metadata": {
    "colab": {
      "name": "Project Machine Learning for Retail with R: Product Packaging.ipynb",
      "provenance": [],
      "authorship_tag": "ABX9TyPbtW/ZArPXoV6cWnIADpes",
      "include_colab_link": true
    },
    "kernelspec": {
      "name": "ir",
      "display_name": "R"
    },
    "language_info": {
      "name": "R"
    }
  },
  "cells": [
    {
      "cell_type": "markdown",
      "metadata": {
        "id": "view-in-github",
        "colab_type": "text"
      },
      "source": [
        "<a href=\"https://colab.research.google.com/github/miranishilva/Project-Machine-Learning-for-Retail-with-R-Product-Packaging/blob/main/Project_Machine_Learning_for_Retail_with_R_Product_Packaging.ipynb\" target=\"_parent\"><img src=\"https://colab.research.google.com/assets/colab-badge.svg\" alt=\"Open In Colab\"/></a>"
      ]
    },
    {
      "cell_type": "markdown",
      "metadata": {
        "id": "5-EhpZwaOM2b"
      },
      "source": [
        "# **Create Next Best Offering to Drive Revenue and Loyalty**\n",
        "DQLab.id Fashion adalah sebuah toko fashion yang menjual berbagai produk seperti jeans, kemeja, kosmetik, dan lain-lain. Walaupun cukup berkembang, namun dengan semakin banyaknya kompetitor dan banyak produk yang stoknya masih banyak tentunya membuat kuatir Pak Agus, manajer DQLab.id Fashion. \n",
        "\n",
        "Salah satu solusi adalah membuat paket yang inovatif. Dimana produk yang sebelumnya tidak terlalu laku tapi punya pangsa pasar malah bisa dipaketkan dan laku.\n",
        "\n",
        "Sebagai seorang data scientist, akan ditugaskan membantu Pak Agus untuk mengidentifikasi paket produk yang menarik untuk dipaketkan sehingga akhirnya bisa meningkatkan keuntungan dan loyalitas para pelanggan DQLab.id Fashion. Dan untuk wewujudkan ini, Anda akan menggunakan R dan algoritma aproriari dari paket arules di sepanjang project ini."
      ]
    },
    {
      "cell_type": "markdown",
      "metadata": {
        "id": "4mowMo6wOcqZ"
      },
      "source": [
        "# **Dataset Transaksi Penjualan DQLab.id Fashion**\n",
        "Untuk memulai project ini, Pak Agus meminta Pak Charlie, data engineer dari DQLab.id Fashion memberikan data transaksi 3 bulan kepada Anda dalam bentuk format TSV (Tab Separated Value) dengan nama transaksi_dqlab_retail.tsv dengan jumlah baris 33,669 baris data (3,450 kode transaksi).\n",
        "\n",
        "Data transaksi ini telah dirapikan untuk Anda dengan hanya mengandung dua variable, yaitu:\n",
        "*  Kode Transaksi\n",
        "*  Nama Produk\n",
        "\n",
        "Variable lain seperti harga, tanggal, jumlah pembelian, dan lain-lain – tidak dimasukkan sesuai permintaan pihak DQLab.id Academy kepada DQLab.id Fashion dengan alasan dua variable tersebut sudah cukup"
      ]
    },
    {
      "cell_type": "markdown",
      "metadata": {
        "id": "fwhafLb_PAc-"
      },
      "source": [
        "# **Petunjuk Penyelesaian Project**\n",
        "\n",
        "Project ini terdiri dari 3 soal, yaitu:\n",
        "\n",
        "\n",
        "*   Mendapatkan insight top 10 dan bottom 10 dari produk yang terjual.\n",
        "*   Mendapatkan daftar seluruh kombinasi paket produk dengan korelasi yang kuat\n",
        "*   Mendapatkan daftar seluruh kombinasi paket produk dengan item tertentu.\n",
        "\n"
      ]
    },
    {
      "cell_type": "code",
      "metadata": {
        "colab": {
          "base_uri": "https://localhost:8080/"
        },
        "id": "anV9t4K2KtXq",
        "outputId": "35f6e87b-b049-453b-f3e3-e339a58b108e"
      },
      "source": [
        "#install library arules\n",
        "install.packages(\"arules\")"
      ],
      "execution_count": 8,
      "outputs": [
        {
          "output_type": "stream",
          "text": [
            "Installing package into ‘/usr/local/lib/R/site-library’\n",
            "(as ‘lib’ is unspecified)\n",
            "\n"
          ],
          "name": "stderr"
        }
      ]
    },
    {
      "cell_type": "markdown",
      "metadata": {
        "id": "cA3-rgeROKxy"
      },
      "source": [
        ""
      ]
    },
    {
      "cell_type": "code",
      "metadata": {
        "id": "n5jFEsA3K4TY"
      },
      "source": [
        "#memasang library arules\n",
        "library(arules)"
      ],
      "execution_count": 9,
      "outputs": []
    },
    {
      "cell_type": "code",
      "metadata": {
        "colab": {
          "base_uri": "https://localhost:8080/",
          "height": 70
        },
        "id": "rN7eDWHQLQxm",
        "outputId": "2ea1c121-b438-42fd-fb6a-9cacb062c2e3"
      },
      "source": [
        "#membaca file dataset, kemudian menyimpannya ke dalam variabel transaksi_tabular\n",
        "transaksi_tabular <- read.transactions(file=\"https://storage.googleapis.com/dqlab-dataset/transaksi_dqlab_retail.tsv\", format=\"single\", sep=\"\\t\", cols=c(1,2), skip=1)\n",
        "transaksi_tabular"
      ],
      "execution_count": 10,
      "outputs": [
        {
          "output_type": "display_data",
          "data": {
            "text/plain": [
              "transactions in sparse format with\n",
              " 3450 transactions (rows) and\n",
              " 69 items (columns)"
            ]
          },
          "metadata": {
            "tags": []
          }
        }
      ]
    },
    {
      "cell_type": "code",
      "metadata": {
        "id": "x5MQZBY5LUfA"
      },
      "source": [
        "write(transaksi_tabular, file=\"test_project_retail_1.txt\", sep=\",\")\n"
      ],
      "execution_count": 11,
      "outputs": []
    },
    {
      "cell_type": "markdown",
      "metadata": {
        "id": "7iL47EgAQKxZ"
      },
      "source": [
        "# **Output Awal: Statistik Top 10**\n",
        "Tahap pertama sebenarnya yang diinginkan oleh Pak Agus adalah melihat apakah Anda mampu memberikan info top 10 dari dataset transaksi yang diberikan.\n"
      ]
    },
    {
      "cell_type": "code",
      "metadata": {
        "colab": {
          "base_uri": "https://localhost:8080/"
        },
        "id": "UmifJsOOQVCm",
        "outputId": "03a9fc16-163d-470e-9533-484e4876da51"
      },
      "source": [
        "data_item <- itemFrequency(transaksi_tabular, type=\"absolute\")\n",
        "data_item <- sort(data_item, decreasing = TRUE)\n",
        "data_item <- data_item[1:10]\n",
        "data_item <- data.frame(\"Nama Produk\"=names(data_item), \"Jumlah\"=data_item, row.names=NULL)\n",
        "\n",
        "write.csv(data_item, file=\"top10_item_retail.txt\")\n",
        "print(data_item)"
      ],
      "execution_count": 18,
      "outputs": [
        {
          "output_type": "stream",
          "text": [
            "                 Nama.Produk Jumlah\n",
            "1               Shampo Biasa   2075\n",
            "2              Serum Vitamin   1685\n",
            "3          Baju Batik Wanita   1312\n",
            "4          Baju Kemeja Putih   1255\n",
            "5       Celana Jogger Casual   1136\n",
            "6                Cover Koper   1086\n",
            "7         Sepatu Sandal Anak   1062\n",
            "8  Tali Pinggang Gesper Pria   1003\n",
            "9        Sepatu Sport merk Z    888\n",
            "10              Wedges Hitam    849\n"
          ],
          "name": "stdout"
        }
      ]
    },
    {
      "cell_type": "markdown",
      "metadata": {
        "id": "sPvEXuwbQ7OM"
      },
      "source": [
        "# **Output Awal: Statistik Bottom 10**\n",
        "Tahap berikutnya adalah Anda harus bisa memberikan informasi bottom 10 dari dataset transaksi yang diberikan.\n",
        "\n",
        "Tahap pertama sebenarnya yang diinginkan oleh Pak Agus adalah melihat apakah Anda mampu memberikan info top 10 dari dataset transaksi yang diberikan."
      ]
    },
    {
      "cell_type": "code",
      "metadata": {
        "colab": {
          "base_uri": "https://localhost:8080/"
        },
        "id": "_fvJvn-4RPLS",
        "outputId": "a3fdde0c-0300-431d-c5de-93a1da4918d2"
      },
      "source": [
        "data_item <- itemFrequency(transaksi_tabular, type=\"absolute\")\n",
        "data_item <- sort(data_item, decreasing = FALSE)\n",
        "data_item <- data_item[1:10]\n",
        "data_item <- data.frame(\"Nama Produk\"=names(data_item), \"Jumlah\"=data_item, row.names=NULL)\n",
        "\n",
        "write.csv(data_item, file=\"bottom10_item_retail.txt\")\n",
        "print(data_item)"
      ],
      "execution_count": 17,
      "outputs": [
        {
          "output_type": "stream",
          "text": [
            "                  Nama.Produk Jumlah\n",
            "1     Celana Jeans Sobek Pria      9\n",
            "2                Tas Kosmetik     11\n",
            "3                Stripe Pants     19\n",
            "4                    Pelembab     24\n",
            "5      Tali Ban Ikat Pinggang     27\n",
            "6  Baju Renang Pria Anak-anak     32\n",
            "7                    Hair Dye     46\n",
            "8          Atasan Baju Belang     56\n",
            "9  Tas Sekolah Anak Perempuan     71\n",
            "10              Dompet Unisex     75\n"
          ],
          "name": "stdout"
        }
      ]
    },
    {
      "cell_type": "markdown",
      "metadata": {
        "id": "NW6EveiwRpRd"
      },
      "source": [
        "# **Mendapatkan Kombinasi Produk yang menarik**\n",
        "Setelah yakin Anda dapat melakukannya Pak Agus ingin Anda mengirimkan file yang berisi daftar 10 paket kombinasi produk yang paling \"menarik\".\n",
        "\n",
        "Anda pertamanya bingung, apa sih definisi menarik versi Pak Agus ini. Setelah wawancara intensif, ternyata pengertiannya adalah sebagai berikut:\n",
        "*   Memiliki asosiasi atau hubungan erat.\n",
        "*   Kombinasi produk minimal 2 item, dan maksimum 3 item.\n",
        "*   Kombinasi produk itu muncul setidaknya 10 dari dari seluruh transaksi.\n",
        "*   Memiliki tingkat confidence minimal 50 persen.\n",
        "\n",
        "\n",
        "\n",
        "\n",
        "\n",
        "\n",
        "\n"
      ]
    },
    {
      "cell_type": "code",
      "metadata": {
        "colab": {
          "base_uri": "https://localhost:8080/"
        },
        "id": "gO1Kkg6gR8w7",
        "outputId": "8afc63b8-d304-419c-b528-7e2a311a8f2f"
      },
      "source": [
        "apriori_rules <- apriori(transaksi_tabular,parameter = list(supp = 0.1, confidence = 0.5))\n",
        "apriori_rules <- sort (apriori_rules, by='lift', decreasing = TRUE)\n",
        "apriori_rules <- apriori_rules[1:10]\n",
        "inspect(apriori_rules)\n",
        "\n",
        "write(apriori_rules, file=\"kombinasi_retail.txt\")"
      ],
      "execution_count": 20,
      "outputs": [
        {
          "output_type": "stream",
          "text": [
            "Apriori\n",
            "\n",
            "Parameter specification:\n",
            " confidence minval smax arem  aval originalSupport maxtime support minlen\n",
            "        0.5    0.1    1 none FALSE            TRUE       5     0.1      1\n",
            " maxlen target  ext\n",
            "     10  rules TRUE\n",
            "\n",
            "Algorithmic control:\n",
            " filter tree heap memopt load sort verbose\n",
            "    0.1 TRUE TRUE  FALSE TRUE    2    TRUE\n",
            "\n",
            "Absolute minimum support count: 345 \n",
            "\n",
            "set item appearances ...[0 item(s)] done [0.00s].\n",
            "set transactions ...[69 item(s), 3450 transaction(s)] done [0.00s].\n",
            "sorting and recoding items ... [40 item(s)] done [0.00s].\n",
            "creating transaction tree ... done [0.00s].\n",
            "checking subsets of size 1 2 3 4 done [0.00s].\n",
            "writing ... [53 rule(s)] done [0.00s].\n",
            "creating S4 object  ... done [0.00s].\n",
            "     lhs                            rhs                           support confidence  coverage     lift count\n",
            "[1]  {Shampo Biasa,                                                                                          \n",
            "      Tali Pinggang Gesper Pria} => {Celana Jeans Sobek Wanita} 0.1052174  0.5500000 0.1913043 2.275180   363\n",
            "[2]  {Celana Jeans Sobek Wanita,                                                                             \n",
            "      Shampo Biasa}              => {Tali Pinggang Gesper Pria} 0.1052174  0.5105485 0.2060870 1.756124   363\n",
            "[3]  {Serum Vitamin,                                                                                         \n",
            "      Shampo Biasa}              => {Sepatu Sandal Anak}        0.1692754  0.5352887 0.3162319 1.738932   584\n",
            "[4]  {Baju Batik Wanita,                                                                                     \n",
            "      Serum Vitamin}             => {Sepatu Sandal Anak}        0.1046377  0.5120567 0.2043478 1.663461   361\n",
            "[5]  {Baju Batik Wanita,                                                                                     \n",
            "      Sepatu Sandal Anak}        => {Serum Vitamin}             0.1046377  0.8058036 0.1298551 1.649865   361\n",
            "[6]  {Tas Waist Bag}             => {Serum Vitamin}             0.1298551  0.8057554 0.1611594 1.649766   448\n",
            "[7]  {Sepatu Sandal Anak,                                                                                    \n",
            "      Shampo Biasa}              => {Serum Vitamin}             0.1692754  0.7564767 0.2237681 1.548869   584\n",
            "[8]  {Celana Jeans Sobek Wanita,                                                                             \n",
            "      Tali Pinggang Gesper Pria} => {Shampo Biasa}              0.1052174  0.8897059 0.1182609 1.479270   363\n",
            "[9]  {Hair and Scalp}            => {Baju Kemeja Putih}         0.1078261  0.5329513 0.2023188 1.465085   372\n",
            "[10] {Sepatu Sandal Anak}        => {Serum Vitamin}             0.2150725  0.6986817 0.3078261 1.430535   742\n"
          ],
          "name": "stdout"
        }
      ]
    },
    {
      "cell_type": "markdown",
      "metadata": {
        "id": "e3kuOiVFSL5y"
      },
      "source": [
        "# **Mencari Paket Produk yang bisa dipasangkan dengan Item Slow-Moving**\n",
        "Slow-moving item adalah produk yang pergerakan penjualannya lambat atau kurang cepat. Ini akan bermasalah apabila item produk tersebut masih menumpuk.\n",
        "\n",
        "Kadang kala item ini belum tentu tidak laku, hanya saja mungkin harganya tidak bagus dan jarang dibutuhkan jika dijual satuan.  Nah, jika tidak dijual satuan kita perlu cari asosiasi kuat dari item produk ini dengan produk lain sehingga jika dipaketkan akan menjadi lebih menarik.\n",
        "\n",
        "Pak Agus juga meyakini hal ini, dan ingin agar Anda membantu mengidentifikasi dua item produk yang menurut dia stoknya masih banyak dan perlu dicari pasangan item untuk pemaketannya.\n",
        "\n",
        "Dua item produk tersebut adalah \"Tas Makeup\" dan \"Baju Renang Pria Anak-anak\". Pak Agus ingin meminta kombinasi yang bisa dipaketkan dengan kedua produk tersebut.\n",
        "\n",
        "Masing-masing produk tersebut dikeluarkan 3 rules yang asosiasinya paling kuat, sehingga total ada 6 rules. Persyaratan-persyaratan asosiasi kuat ini masih sama dengan yang telah disebutkan Pak Agus sebelumnya, kecuali tingkat confidence dicoba pada tingkat minimal 0.1."
      ]
    },
    {
      "cell_type": "code",
      "metadata": {
        "colab": {
          "base_uri": "https://localhost:8080/"
        },
        "id": "tkCwjOWOSS3g",
        "outputId": "33707745-5c5f-46df-8520-1f92dce38751"
      },
      "source": [
        "transaksi_slow <- apriori(transaksi_tabular, parameter = list(supp=10/nrow(transaksi_tabular), minlen=2, maxlen=3, confidence=0.1))\n",
        "\n",
        "slow_move1 <- subset(transaksi_slow, rhs %in% 'Tas Makeup' & lift>1)\n",
        "slow_move1 <- sort(slow_move1, by='lift', decreasing = TRUE)[1:3]\n",
        "\n",
        "slow_move2 <- subset(transaksi_slow, rhs %in% 'Baju Renang Pria Anak-anak' & lift>1)\n",
        "slow_move2 <- sort(slow_move2, by='lift', decreasing = TRUE)[1:3]\n",
        "\n",
        "slow_move <- c(slow_move1,slow_move2)\n",
        "inspect(slow_move)"
      ],
      "execution_count": 22,
      "outputs": [
        {
          "output_type": "stream",
          "text": [
            "Apriori\n",
            "\n",
            "Parameter specification:\n",
            " confidence minval smax arem  aval originalSupport maxtime     support minlen\n",
            "        0.1    0.1    1 none FALSE            TRUE       5 0.002898551      2\n",
            " maxlen target  ext\n",
            "      3  rules TRUE\n",
            "\n",
            "Algorithmic control:\n",
            " filter tree heap memopt load sort verbose\n",
            "    0.1 TRUE TRUE  FALSE TRUE    2    TRUE\n",
            "\n",
            "Absolute minimum support count: 10 \n",
            "\n",
            "set item appearances ...[0 item(s)] done [0.00s].\n",
            "set transactions ...[69 item(s), 3450 transaction(s)] done [0.00s].\n",
            "sorting and recoding items ... [68 item(s)] done [0.00s].\n",
            "creating transaction tree ... done [0.00s].\n",
            "checking subsets of size 1 2 3"
          ],
          "name": "stdout"
        },
        {
          "output_type": "stream",
          "text": [
            "Warning message in apriori(transaksi_tabular, parameter = list(supp = 10/nrow(transaksi_tabular), :\n",
            "“Mining stopped (maxlen reached). Only patterns up to a length of 3 returned!”\n"
          ],
          "name": "stderr"
        },
        {
          "output_type": "stream",
          "text": [
            " done [0.01s].\n",
            "writing ... [39832 rule(s)] done [0.01s].\n",
            "creating S4 object  ... done [0.01s].\n",
            "    lhs                             rhs                              support confidence   coverage     lift count\n",
            "[1] {Baju Renang Anak Perempuan,                                                                                 \n",
            "     Tas Pinggang Wanita}        => {Tas Makeup}                 0.010434783  0.8000000 0.01304348 19.57447    36\n",
            "[2] {Baju Renang Anak Perempuan,                                                                                 \n",
            "     Tas Ransel Mini}            => {Tas Makeup}                 0.011304348  0.7959184 0.01420290 19.47460    39\n",
            "[3] {Baju Renang Anak Perempuan,                                                                                 \n",
            "     Celana Pendek Green/Hijau}  => {Tas Makeup}                 0.010144928  0.7777778 0.01304348 19.03073    35\n",
            "[4] {Gembok Koper,                                                                                               \n",
            "     Tas Waist Bag}              => {Baju Renang Pria Anak-anak} 0.004057971  0.2745098 0.01478261 29.59559    14\n",
            "[5] {Flat Shoes Ballerina,                                                                                       \n",
            "     Gembok Koper}               => {Baju Renang Pria Anak-anak} 0.004057971  0.1866667 0.02173913 20.12500    14\n",
            "[6] {Celana Jeans Sobek Wanita,                                                                                  \n",
            "     Jeans Jumbo}                => {Baju Renang Pria Anak-anak} 0.005507246  0.1210191 0.04550725 13.04737    19\n"
          ],
          "name": "stdout"
        }
      ]
    },
    {
      "cell_type": "code",
      "metadata": {
        "id": "XU6ze-5pSmff"
      },
      "source": [
        "write(slow_move,file= \"kombinasi_retail_slow_moving.txt\")"
      ],
      "execution_count": 23,
      "outputs": []
    },
    {
      "cell_type": "code",
      "metadata": {
        "id": "0E2RqHhLaA_l"
      },
      "source": [
        ""
      ],
      "execution_count": null,
      "outputs": []
    },
    {
      "cell_type": "markdown",
      "metadata": {
        "id": "RmgkefKTaXXF"
      },
      "source": [
        ""
      ]
    }
  ]
}